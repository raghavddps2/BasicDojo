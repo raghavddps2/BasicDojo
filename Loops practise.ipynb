{
 "cells": [
  {
   "cell_type": "code",
   "execution_count": null,
   "metadata": {},
   "outputs": [],
   "source": [
    "#Program to find whether a number is prime or not\n",
    "\n",
    "import math\n",
    "number = 117\n",
    "i = 2\n",
    "flag = 0\n",
    "while i<math.sqrt(number):\n",
    "    if(number % i == 0):\n",
    "        flag = 1\n",
    "        break\n",
    "        \n",
    "if(number == 1):\n",
    "    print(number, \"is neither prime nor composite\")\n",
    "elif(flag == 1):\n",
    "    print(number, \"is not prime\")\n",
    "else:\n",
    "    print(number, \"is prime\")"
   ]
  },
  {
   "cell_type": "code",
   "execution_count": null,
   "metadata": {},
   "outputs": [],
   "source": [
    "#Program to print the multiplication table of a number\n",
    "number = 2\n",
    "print(\"The multiplication table is: \")\n",
    "for i in range(1,11):\n",
    "    val = number * i\n",
    "    print(number,\"*\",i,\"=\",val)\n"
   ]
  },
  {
   "cell_type": "code",
   "execution_count": null,
   "metadata": {},
   "outputs": [],
   "source": [
    "a = 10\n",
    "print(a)"
   ]
  }
 ],
 "metadata": {
  "kernelspec": {
   "display_name": "Python 3",
   "language": "python",
   "name": "python3"
  },
  "language_info": {
   "codemirror_mode": {
    "name": "ipython",
    "version": 3
   },
   "file_extension": ".py",
   "mimetype": "text/x-python",
   "name": "python",
   "nbconvert_exporter": "python",
   "pygments_lexer": "ipython3",
   "version": "3.7.3"
  }
 },
 "nbformat": 4,
 "nbformat_minor": 2
}
