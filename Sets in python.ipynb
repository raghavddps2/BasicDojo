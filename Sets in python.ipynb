{
 "cells": [
  {
   "cell_type": "code",
   "execution_count": 1,
   "metadata": {},
   "outputs": [
    {
     "name": "stdout",
     "output_type": "stream",
     "text": [
      "set()\n"
     ]
    }
   ],
   "source": [
    "#Sets in python is basically something really cool. It doesn't have any duplicate elements.\n",
    "#We basically start for a set as follows.\n",
    "a = set()\n",
    "print(a) #This should give a null set basically"
   ]
  },
  {
   "cell_type": "code",
   "execution_count": 2,
   "metadata": {},
   "outputs": [
    {
     "name": "stdout",
     "output_type": "stream",
     "text": [
      "{2, 3}\n"
     ]
    }
   ],
   "source": [
    "#Now, to add an element to the set, we use the add function while note that in case of a list, we use the append function.\n",
    "a.add(2)\n",
    "a.add(3)\n",
    "print(a)\n"
   ]
  },
  {
   "cell_type": "code",
   "execution_count": 3,
   "metadata": {},
   "outputs": [
    {
     "name": "stdout",
     "output_type": "stream",
     "text": [
      "{2, 3}\n"
     ]
    }
   ],
   "source": [
    "#Now again if we try to add 2, it won't list it as it is already present in the set.\n",
    "a.add(2)\n",
    "print(a)"
   ]
  },
  {
   "cell_type": "code",
   "execution_count": 5,
   "metadata": {},
   "outputs": [
    {
     "name": "stdout",
     "output_type": "stream",
     "text": [
      "{1, 2, 3, 4, 5, 6, 7}\n"
     ]
    }
   ],
   "source": [
    "#So, this was something cool.\n",
    "given_list = [1,2,3,4,5,1,3,4,6,7]\n",
    "#Our task is to remove all the duplicate elements from the list.\n",
    "#So, we will basically convert this to a set and back to a list.\n",
    "my_set = set()\n",
    "for x in given_list:\n",
    "    my_set.add(x)\n",
    "print(my_set) #This should print the elements only one time.\n"
   ]
  },
  {
   "cell_type": "code",
   "execution_count": 6,
   "metadata": {},
   "outputs": [
    {
     "name": "stdout",
     "output_type": "stream",
     "text": [
      "[1, 2, 3, 4, 5, 6, 7]\n"
     ]
    }
   ],
   "source": [
    "#Now, we will create an emepty list, and append all the elements from the set one by one.\n",
    "my_list = list()\n",
    "for x in my_set:\n",
    "    my_list.append(x)\n",
    "print(my_list)\n",
    "#This gives the list."
   ]
  },
  {
   "cell_type": "code",
   "execution_count": 9,
   "metadata": {},
   "outputs": [
    {
     "name": "stdout",
     "output_type": "stream",
     "text": [
      "8\n"
     ]
    }
   ],
   "source": [
    "#This finds the sum of elements in the list only one time per element is considered.\n",
    "given_list1 = [1,3,4,1,3]\n",
    "set1 = set()\n",
    "sum = 0\n",
    "for x in given_list1:\n",
    "    set1.add(x)\n",
    "for x in set1:\n",
    "    sum +=x\n",
    "print(sum)"
   ]
  }
 ],
 "metadata": {
  "kernelspec": {
   "display_name": "Python 3",
   "language": "python",
   "name": "python3"
  },
  "language_info": {
   "codemirror_mode": {
    "name": "ipython",
    "version": 3
   },
   "file_extension": ".py",
   "mimetype": "text/x-python",
   "name": "python",
   "nbconvert_exporter": "python",
   "pygments_lexer": "ipython3",
   "version": "3.7.3"
  }
 },
 "nbformat": 4,
 "nbformat_minor": 2
}
