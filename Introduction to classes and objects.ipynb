{
 "cells": [
  {
   "cell_type": "code",
   "execution_count": 1,
   "metadata": {},
   "outputs": [
    {
     "name": "stdout",
     "output_type": "stream",
     "text": [
      "My name is  Jim and my specialization is Android\n",
      "My name is  John and my specialization is Web\n"
     ]
    }
   ],
   "source": [
    "class Robot:\n",
    "    name = \"\"\n",
    "    techSpe = \"\"\n",
    "    def introduce_self(self):\n",
    "        print(\"My name is \",self.name,\"and my specialization is\",self.techSpe)\n",
    "\n",
    "r1 = Robot();\n",
    "r2 = Robot();\n",
    "\n",
    "r1.name = \"Jim\"\n",
    "r1.techSpe = \"Android\"\n",
    "\n",
    "r2.name = \"John\"\n",
    "r2.techSpe = \"Web\"\n",
    "\n",
    "r1.introduce_self()\n",
    "r2.introduce_self()"
   ]
  },
  {
   "cell_type": "code",
   "execution_count": null,
   "metadata": {},
   "outputs": [],
   "source": [
    "#The above basically shows how we create a class and create two objects out of it.\n",
    "#What we are going to see now is how to use constructors."
   ]
  },
  {
   "cell_type": "code",
   "execution_count": 7,
   "metadata": {},
   "outputs": [
    {
     "name": "stdout",
     "output_type": "stream",
     "text": [
      "My name is  Jim ,my specialzation is Android and i belong to Google\n",
      "My name is  John ,my specialzation is React and i belong to Facebook\n"
     ]
    }
   ],
   "source": [
    "class Robot:\n",
    "    def __init__(slef,name,techSpe,company):\n",
    "        slef.name = name\n",
    "        slef.techSpe = techSpe\n",
    "        slef.company = company\n",
    "    \n",
    "    def introduce_yourself(peace):\n",
    "        print(\"My name is \",peace.name,\",my specialzation is\",peace.techSpe,\"and i belong to\",peace.company)\n",
    "\n",
    "r1 = Robot(\"Jim\",\"Android\",\"Google\")\n",
    "r2 = Robot(\"John\",\"React\",\"Facebook\")\n",
    "\n",
    "r1.introduce_yourself()\n",
    "r2.introduce_yourself()"
   ]
  },
  {
   "cell_type": "code",
   "execution_count": 10,
   "metadata": {},
   "outputs": [
    {
     "name": "stdout",
     "output_type": "stream",
     "text": [
      "2\n"
     ]
    }
   ],
   "source": [
    "#The above is using constructors, we can use the __init__(self) to create the constructor\n",
    "#NOte that as we encountered, it is just not necessary to use self, you can use any other word\n",
    "#We can check whether self is a keyword or not as follows:\n",
    "self = 2\n",
    "#def = 2 will give an error as keywords\n",
    "#print(def) will giv an error.\n",
    "print(self)"
   ]
  }
 ],
 "metadata": {
  "kernelspec": {
   "display_name": "Python 3",
   "language": "python",
   "name": "python3"
  },
  "language_info": {
   "codemirror_mode": {
    "name": "ipython",
    "version": 3
   },
   "file_extension": ".py",
   "mimetype": "text/x-python",
   "name": "python",
   "nbconvert_exporter": "python",
   "pygments_lexer": "ipython3",
   "version": "3.7.3"
  }
 },
 "nbformat": 4,
 "nbformat_minor": 2
}
