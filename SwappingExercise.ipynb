{
 "cells": [
  {
   "cell_type": "code",
   "execution_count": 3,
   "metadata": {},
   "outputs": [
    {
     "name": "stdout",
     "output_type": "stream",
     "text": [
      "This is before swapping\n",
      "This is string1\n",
      "This is string2\n",
      "This is after swapping using a temporary variable\n",
      "This is string2\n",
      "This is string1\n"
     ]
    }
   ],
   "source": [
    "#Swapping of varailes\n",
    "v1 = \"This is string1\"\n",
    "v2 = \"This is string2\"\n",
    "\n",
    "print(\"This is before swapping\")\n",
    "print(v1)\n",
    "print(v2)\n",
    "\n",
    "v3 = v2\n",
    "v2 = v1\n",
    "v1 = v3\n",
    "\n",
    "print(\"This is after swapping using a temporary variable\")\n",
    "print(v1)\n",
    "print(v2)"
   ]
  },
  {
   "cell_type": "code",
   "execution_count": 5,
   "metadata": {},
   "outputs": [
    {
     "name": "stdout",
     "output_type": "stream",
     "text": [
      "Maheshwari\n",
      "Raghav\n"
     ]
    }
   ],
   "source": [
    "#Swapping of variables without using a temporary variable\n",
    "\n",
    "#This is the simplest approach in python, this is something called as tuples(Not studies yet.)\n",
    "v1 = \"Raghav\"\n",
    "v2 = \"Maheshwari\"\n",
    "\n",
    "v1,v2 = v2,v1\n",
    "print(v1)\n",
    "print(v2)"
   ]
  },
  {
   "cell_type": "code",
   "execution_count": null,
   "metadata": {},
   "outputs": [],
   "source": []
  }
 ],
 "metadata": {
  "kernelspec": {
   "display_name": "Python 3",
   "language": "python",
   "name": "python3"
  },
  "language_info": {
   "codemirror_mode": {
    "name": "ipython",
    "version": 3
   },
   "file_extension": ".py",
   "mimetype": "text/x-python",
   "name": "python",
   "nbconvert_exporter": "python",
   "pygments_lexer": "ipython3",
   "version": "3.7.3"
  }
 },
 "nbformat": 4,
 "nbformat_minor": 2
}
