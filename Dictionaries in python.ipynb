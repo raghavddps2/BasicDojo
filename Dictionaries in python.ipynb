{
 "cells": [
  {
   "cell_type": "code",
   "execution_count": 1,
   "metadata": {},
   "outputs": [
    {
     "name": "stdout",
     "output_type": "stream",
     "text": [
      "{'Raghav': 18, 'Nidhi': 19, 'Rohit': 24, 'pooja': 14}\n"
     ]
    }
   ],
   "source": [
    "#Here, we are going to learn about dictionaries in python.\n",
    "#To initialize dictionaries in python , we use the curly braces or we use the dict keyword for the same.\n",
    "dictionary = {\"Raghav\":18,\"Nidhi\":19,\"Rohit\":24,\"pooja\":14}\n",
    "print(dictionary)"
   ]
  },
  {
   "cell_type": "code",
   "execution_count": 2,
   "metadata": {},
   "outputs": [
    {
     "name": "stdout",
     "output_type": "stream",
     "text": [
      "{'Raghav': 18, 'Nidhi': 19, 'Rohit': 24, 'pooja': 14, 'Shagun': 23}\n"
     ]
    }
   ],
   "source": [
    "dictionary[\"Shagun\"] = 23\n",
    "print(dictionary)"
   ]
  },
  {
   "cell_type": "code",
   "execution_count": 3,
   "metadata": {},
   "outputs": [
    {
     "name": "stdout",
     "output_type": "stream",
     "text": [
      "18\n"
     ]
    }
   ],
   "source": [
    "print(dictionary[\"Raghav\"])\n",
    "#Keys are generally strings or numbers\n",
    "#values can be generally any type"
   ]
  },
  {
   "cell_type": "code",
   "execution_count": 5,
   "metadata": {},
   "outputs": [
    {
     "name": "stdout",
     "output_type": "stream",
     "text": [
      "{'raghav': 'maheshwari', 'shagun': 'agarwal'}\n"
     ]
    }
   ],
   "source": [
    "#In addition, we directly have the dict function\n",
    "dictionary2 = dict(raghav = \"maheshwari\",shagun = \"agarwal\")\n",
    "print(dictionary2)\n"
   ]
  },
  {
   "cell_type": "code",
   "execution_count": 9,
   "metadata": {},
   "outputs": [
    {
     "name": "stdout",
     "output_type": "stream",
     "text": [
      "maheshwari\n"
     ]
    }
   ],
   "source": [
    "print(dictionary2[\"raghav\"])"
   ]
  },
  {
   "cell_type": "code",
   "execution_count": 11,
   "metadata": {},
   "outputs": [
    {
     "name": "stdout",
     "output_type": "stream",
     "text": [
      "Mahrashtra\n",
      "Uttar Pradesh\n",
      "Bihar\n",
      "Chattisgarh\n"
     ]
    }
   ],
   "source": [
    "#Okay, so when you use the keys, you nedd to use inverted comma's when it comes to printing it.\n",
    "#Here, now we will learn how to iterate over dictionaries in python.\n",
    "dictionary1 = {\"Mahrashtra\": \"Mumbai\",\"Uttar Pradesh\":\"Lucknow\",\"Bihar\":\"Patna\",\"Chattisgarh\":\"Raipur\"}\n",
    "for state in dictionary1:\n",
    "    print(state)"
   ]
  },
  {
   "cell_type": "code",
   "execution_count": 13,
   "metadata": {},
   "outputs": [
    {
     "name": "stdout",
     "output_type": "stream",
     "text": [
      "All the states are:\n",
      "Mahrashtra\n",
      "Uttar Pradesh\n",
      "Bihar\n",
      "Chattisgarh\n",
      " \n",
      "All the capitals are:\n",
      "Mumbai\n",
      "Lucknow\n",
      "Patna\n",
      "Raipur\n"
     ]
    }
   ],
   "source": [
    "dictionary1 = {\"Mahrashtra\": \"Mumbai\",\"Uttar Pradesh\":\"Lucknow\",\"Bihar\":\"Patna\",\"Chattisgarh\":\"Raipur\"}\n",
    "print(\"All the states are:\")\n",
    "for state in dictionary1:\n",
    "    print(state)\n",
    "print(\" \")\n",
    "print(\"All the capitals are:\")\n",
    "for capital in dictionary1.values():\n",
    "    print(capital)"
   ]
  },
  {
   "cell_type": "code",
   "execution_count": 16,
   "metadata": {},
   "outputs": [
    {
     "name": "stdout",
     "output_type": "stream",
     "text": [
      "All the states are:\n",
      "Mahrashtra\n",
      "Uttar Pradesh\n",
      "Bihar\n",
      "Chattisgarh\n",
      " \n",
      "All the capitals are:\n",
      "Mumbai\n",
      "Lucknow\n",
      "Patna\n",
      "Raipur\n",
      " \n",
      "The states with the capitals are:\n",
      "The capital of Mahrashtra is Mumbai\n",
      "The capital of Uttar Pradesh is Lucknow\n",
      "The capital of Bihar is Patna\n",
      "The capital of Chattisgarh is Raipur\n"
     ]
    }
   ],
   "source": [
    "dictionary1 = {\"Mahrashtra\": \"Mumbai\",\"Uttar Pradesh\":\"Lucknow\",\"Bihar\":\"Patna\",\"Chattisgarh\":\"Raipur\"}\n",
    "print(\"All the states are:\")\n",
    "for state in dictionary1:\n",
    "    print(state)\n",
    "print(\" \")\n",
    "print(\"All the capitals are:\")\n",
    "for capital in dictionary1.values():\n",
    "    print(capital)\n",
    "    \n",
    "print(\" \")\n",
    "print(\"The states with the capitals are:\")\n",
    "for state,capital in dictionary1.items():\n",
    "    print(\"The capital of\",state,\"is\",capital)"
   ]
  },
  {
   "cell_type": "code",
   "execution_count": 29,
   "metadata": {},
   "outputs": [
    {
     "name": "stdout",
     "output_type": "stream",
     "text": [
      "The capital of Mahrashtra is Mumbai\n",
      "The capital of Uttar Pradesh is Lucknow\n",
      "The capital of Bihar is Patna\n",
      "The capital of Chattisgarh is Raipur\n"
     ]
    }
   ],
   "source": [
    "#So, if you just wanna use the key, then use the dictionary name, thats enough\n",
    "#If you wanna use the values, then use dictionaryname.values(),\n",
    "#If you wanna use both the key and the value, then obviously use dictionaryName.items()\n",
    "\n",
    "#One more approach, we have no need to define as items or values, just access it directly.\n",
    "for state in dictionary1:\n",
    "     print(\"The capital of\",state,\"is\",dictionary1[state])"
   ]
  }
 ],
 "metadata": {
  "kernelspec": {
   "display_name": "Python 3",
   "language": "python",
   "name": "python3"
  },
  "language_info": {
   "codemirror_mode": {
    "name": "ipython",
    "version": 3
   },
   "file_extension": ".py",
   "mimetype": "text/x-python",
   "name": "python",
   "nbconvert_exporter": "python",
   "pygments_lexer": "ipython3",
   "version": "3.7.3"
  }
 },
 "nbformat": 4,
 "nbformat_minor": 2
}
