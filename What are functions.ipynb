{
 "cells": [
  {
   "cell_type": "code",
   "execution_count": 1,
   "metadata": {},
   "outputs": [
    {
     "name": "stdout",
     "output_type": "stream",
     "text": [
      "Came outside the function\n"
     ]
    }
   ],
   "source": [
    "#This is how we use functions in python\n",
    "def function1():\n",
    "    print(\"This is function1\")\n",
    "    print(\"Inside the function1\")\n",
    "print(\"Came outside the function\")\n"
   ]
  },
  {
   "cell_type": "code",
   "execution_count": 3,
   "metadata": {},
   "outputs": [
    {
     "name": "stdout",
     "output_type": "stream",
     "text": [
      "This is function1\n",
      "Inside the function1\n"
     ]
    }
   ],
   "source": [
    "function1()"
   ]
  },
  {
   "cell_type": "code",
   "execution_count": 6,
   "metadata": {},
   "outputs": [],
   "source": [
    "def function2(x,y):\n",
    "    return (x+y)\n",
    "def function3(x,y):\n",
    "    return (x*y)\n",
    "def function4(x,y):\n",
    "    if(y == 0):\n",
    "        return \"Divide by zero error\"\n",
    "    else:\n",
    "        return (x/y)"
   ]
  },
  {
   "cell_type": "code",
   "execution_count": 8,
   "metadata": {},
   "outputs": [
    {
     "name": "stdout",
     "output_type": "stream",
     "text": [
      "10 0 Divide by zero error\n"
     ]
    }
   ],
   "source": [
    "x = 10\n",
    "y = 0\n",
    "\n",
    "a = function2(x,y)\n",
    "b = function3(x,y)\n",
    "c = function4(x,y)\n",
    "\n",
    "print(a,b,c)"
   ]
  },
  {
   "cell_type": "code",
   "execution_count": 31,
   "metadata": {},
   "outputs": [],
   "source": [
    "#BMI calculator using python\n",
    "def BMIcalc(name,weight,height):\n",
    "    \n",
    "    heightM = height*0.3048\n",
    "    BMI = weight/(heightM**2)\n",
    "\n",
    "    if(BMI < 16):\n",
    "        print(name,height,weight,\"BMI\",BMI,\"is Severe Thinness\")\n",
    "    elif(BMI < 17):\n",
    "        print(name,\"BMI\",BMI,\"is Moderate Thinness\")\n",
    "    elif(BMI < 18.5):\n",
    "        print(name,\"BMI\",BMI,\"is Mild Thinness\")\n",
    "    elif(BMI < 25):\n",
    "        print(name,\"BMI\",BMI,\"is Normal\")\n",
    "    elif(BMI < 30):\n",
    "        print(name,\"BMI\",BMI,\"is Overweight\")\n",
    "    elif(BMI < 35):\n",
    "        print(name,\"BMI\",BMI,\"is Obese Class I\")\n",
    "    elif(BMI < 40):\n",
    "        print(name,\"BMI\",BMI,\"isObese Class II\")\n",
    "    else:        \n",
    "        print(name,\"BMI\",BMI,\"is Obese Class III\")"
   ]
  },
  {
   "cell_type": "code",
   "execution_count": 33,
   "metadata": {},
   "outputs": [
    {
     "name": "stdout",
     "output_type": "stream",
     "text": [
      "Raghav BMI 25.26405420120298 is Overweight\n",
      "Sashwat BMI 17.598545568342292 is Mild Thinness\n",
      "Sunder Pichai BMI 19.733835763967818 is Normal\n"
     ]
    }
   ],
   "source": [
    "BMIcalc(\"Raghav\",71,5.5)\n",
    "BMIcalc(\"Sashwat\",55,5.8)\n",
    "BMIcalc(\"Sunder Pichai\",66,6)"
   ]
  },
  {
   "cell_type": "code",
   "execution_count": 36,
   "metadata": {},
   "outputs": [
    {
     "name": "stdout",
     "output_type": "stream",
     "text": [
      "20 miles is 32.0 kilometeres\n"
     ]
    }
   ],
   "source": [
    "#This is a function in python to convert kilometres\n",
    "def conversion(x):\n",
    "    return x*1.6\n",
    "y = 20\n",
    "p = conversion(y)\n",
    "print(y,\"miles is\",p,\"kilometeres\")"
   ]
  },
  {
   "cell_type": "code",
   "execution_count": null,
   "metadata": {},
   "outputs": [],
   "source": []
  }
 ],
 "metadata": {
  "kernelspec": {
   "display_name": "Python 3",
   "language": "python",
   "name": "python3"
  },
  "language_info": {
   "codemirror_mode": {
    "name": "ipython",
    "version": 3
   },
   "file_extension": ".py",
   "mimetype": "text/x-python",
   "name": "python",
   "nbconvert_exporter": "python",
   "pygments_lexer": "ipython3",
   "version": "3.7.3"
  }
 },
 "nbformat": 4,
 "nbformat_minor": 2
}
