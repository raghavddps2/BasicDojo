{
 "cells": [
  {
   "cell_type": "code",
   "execution_count": 6,
   "metadata": {},
   "outputs": [],
   "source": [
    "#We will make two classes, one of a teacher and the other of a student.\n",
    "class student:\n",
    "    \n",
    "    def __init__(self,name,age,course):\n",
    "        self.name = name\n",
    "        self.age = age\n",
    "        self.course = course\n",
    "        \n",
    "    def introduce_yourself(self):\n",
    "        print(\"My name is \",self.name,\",my age is\",self.age,\" and my course is \",self.course)"
   ]
  },
  {
   "cell_type": "code",
   "execution_count": 11,
   "metadata": {},
   "outputs": [],
   "source": [
    "class teacher:\n",
    "    \n",
    "    def __init__(self,name,designation,interest):\n",
    "        self.name = name\n",
    "        self.designation = designation\n",
    "        self.interest = interest\n",
    "\n",
    "    def introduce_yourself(self,student):\n",
    "        print(\"My name is \",self.name,\",my designation is\",self.designation,\" and my interest area is \",self.interest, \"and my student is \",student.name)\n",
    "        \n",
    "        "
   ]
  },
  {
   "cell_type": "code",
   "execution_count": 12,
   "metadata": {},
   "outputs": [],
   "source": [
    "s1 = student(\"Raghav\",18,\"B.E. ISE,MSRIT\")\n",
    "s2 = student(\"Shagun\",18,\"B.E. CSE IITD\")\n",
    "\n",
    "t1 = teacher(\"Mydhili Nair\",\"Professor\",\"Machine learning\")\n",
    "t2 = teacher(\"Shashidhar sir\",\"Associate professor\",\"Data science\")\n",
    "\n"
   ]
  },
  {
   "cell_type": "code",
   "execution_count": 13,
   "metadata": {},
   "outputs": [],
   "source": [
    "s1.mentor = t1\n",
    "s2.mentor = t2"
   ]
  },
  {
   "cell_type": "code",
   "execution_count": 19,
   "metadata": {},
   "outputs": [
    {
     "name": "stdout",
     "output_type": "stream",
     "text": [
      "My name is  Mydhili Nair ,my designation is Professor  and my interest area is  Machine learning and my student is  Raghav\n",
      "My name is  Shashidhar sir ,my designation is Associate professor  and my interest area is  Data science and my student is  Shagun\n"
     ]
    }
   ],
   "source": [
    "t1.introduce_yourself(s1)\n",
    "s2.mentor.introduce_yourself(s2)"
   ]
  },
  {
   "cell_type": "code",
   "execution_count": null,
   "metadata": {},
   "outputs": [],
   "source": [
    "#So, we associate an object with another object as follows.\n",
    "#This all happpens because all the variables are declared in global or public\n",
    "#This might not be the case all the time.\n",
    "#Line 20 shows the things more clearly."
   ]
  }
 ],
 "metadata": {
  "kernelspec": {
   "display_name": "Python 3",
   "language": "python",
   "name": "python3"
  },
  "language_info": {
   "codemirror_mode": {
    "name": "ipython",
    "version": 3
   },
   "file_extension": ".py",
   "mimetype": "text/x-python",
   "name": "python",
   "nbconvert_exporter": "python",
   "pygments_lexer": "ipython3",
   "version": "3.7.3"
  }
 },
 "nbformat": 4,
 "nbformat_minor": 2
}
