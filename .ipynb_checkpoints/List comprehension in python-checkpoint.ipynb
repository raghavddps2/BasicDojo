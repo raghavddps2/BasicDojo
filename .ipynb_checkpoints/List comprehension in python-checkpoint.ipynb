{
 "cells": [
  {
   "cell_type": "code",
   "execution_count": 1,
   "metadata": {},
   "outputs": [
    {
     "name": "stdout",
     "output_type": "stream",
     "text": [
      "[2, 4, 6, 8, 10, 12]\n"
     ]
    }
   ],
   "source": [
    "#Here, we are going to learn list compression in python.\n",
    "#Suppose we have the list\n",
    "list1 = [1,2,3,4,5,6]\n",
    "#Now we want to create a list like [2,4,6,8,10,12]\n",
    "#Simplest approach is to create a new list and then append elements in it.\n",
    "list2 = list()\n",
    "for x in list1:\n",
    "    list2.append(x * 2)\n",
    "print(list2)"
   ]
  },
  {
   "cell_type": "code",
   "execution_count": 2,
   "metadata": {},
   "outputs": [
    {
     "name": "stdout",
     "output_type": "stream",
     "text": [
      "[2, 4, 6, 8, 10, 12]\n"
     ]
    }
   ],
   "source": [
    "#The above gives the intended output.\n",
    "list3 = [1,2,3,4,5,6]\n",
    "#Another short method is\n",
    "list4 = [x*2 for x in list3]\n",
    "print(list4)"
   ]
  },
  {
   "cell_type": "code",
   "execution_count": 3,
   "metadata": {},
   "outputs": [
    {
     "name": "stdout",
     "output_type": "stream",
     "text": [
      "[1, 4, 9, 16, 25, 36, 49, 64, 81, 100]\n"
     ]
    }
   ],
   "source": [
    "#To, create a list of squares of number in a range\n",
    "list5 = [x**2 for x in range(1,11)]\n",
    "print(list5)"
   ]
  },
  {
   "cell_type": "code",
   "execution_count": 7,
   "metadata": {},
   "outputs": [
    {
     "name": "stdout",
     "output_type": "stream",
     "text": [
      "6\n",
      "5\n",
      "4\n",
      "3\n",
      "2\n",
      "1\n"
     ]
    }
   ],
   "source": [
    "#Now we have to print the squares from 10 to 1\n",
    "#So, we have to use range function only, but it will be modified a bit!\n",
    "#Here we specify the initial value, then till where it should to go, and then we specify the decrement.\n",
    "for x in range(6,0,-1):\n",
    "    print(x)"
   ]
  },
  {
   "cell_type": "code",
   "execution_count": 10,
   "metadata": {},
   "outputs": [
    {
     "name": "stdout",
     "output_type": "stream",
     "text": [
      "100 81 64 49 36 25 16 9 4 1 "
     ]
    }
   ],
   "source": [
    "#So, to give the squares from 100 to 1, we do\n",
    "for x in range(10,0,-1):\n",
    "    print(x**2,end=\" \")"
   ]
  }
 ],
 "metadata": {
  "kernelspec": {
   "display_name": "Python 3",
   "language": "python",
   "name": "python3"
  },
  "language_info": {
   "codemirror_mode": {
    "name": "ipython",
    "version": 3
   },
   "file_extension": ".py",
   "mimetype": "text/x-python",
   "name": "python",
   "nbconvert_exporter": "python",
   "pygments_lexer": "ipython3",
   "version": "3.7.3"
  }
 },
 "nbformat": 4,
 "nbformat_minor": 2
}
