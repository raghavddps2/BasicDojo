{
 "cells": [
  {
   "cell_type": "code",
   "execution_count": null,
   "metadata": {},
   "outputs": [],
   "source": [
    "#Swapping of varailes\n",
    "v1 = \"This is string1\"\n",
    "v2 = \"This is string2\"\n",
    "\n",
    "printf(\"This is before swapping\")\n",
    "v3 = v2\n",
    "v2 = v1\n",
    "v1 = v3\n",
    "\n",
    "print(\"This is after swapping using a temporary variable\")\n",
    "print(v1)\n",
    "print(v2)"
   ]
  }
 ],
 "metadata": {
  "kernelspec": {
   "display_name": "Python 3",
   "language": "python",
   "name": "python3"
  },
  "language_info": {
   "codemirror_mode": {
    "name": "ipython",
    "version": 3
   },
   "file_extension": ".py",
   "mimetype": "text/x-python",
   "name": "python",
   "nbconvert_exporter": "python",
   "pygments_lexer": "ipython3",
   "version": "3.7.3"
  }
 },
 "nbformat": 4,
 "nbformat_minor": 2
}
