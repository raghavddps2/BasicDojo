{
 "cells": [
  {
   "cell_type": "code",
   "execution_count": 12,
   "metadata": {},
   "outputs": [
    {
     "name": "stdout",
     "output_type": "stream",
     "text": [
      "BMI 17.598545568342292 is Mild Thinness\n"
     ]
    }
   ],
   "source": [
    "name = \"Sashwat\"\n",
    "weight = 55\n",
    "height = 5.8\n",
    "heightM = height*0.3048\n",
    "\n",
    "BMI = weight/(heightM**2) ** #is used to calcullate the power in python\n",
    "\n",
    "if(BMI < 16):\n",
    "    print(\"BMI\",BMI,\"is Severe Thinness\")\n",
    "elif(BMI < 17):\n",
    "    print(\"BMI\",BMI,\"is Moderate Thinness\")\n",
    "elif(BMI < 18.5):\n",
    "    print(\"BMI\",BMI,\"is Mild Thinness\")\n",
    "elif(BMI < 25):\n",
    "    print(\"BMI\",BMI,\"is Normal\")\n",
    "elif(BMI < 30):\n",
    "    print(\"BMI\",BMI,\"is Overweight\")\n",
    "elif(BMI < 35):\n",
    "    print(\"BMI\",BMI,\"is Obese Class I\")\n",
    "elif(BMI < 40):\n",
    "    print(\"BMI\",BMI,\"isObese Class II\")\n",
    "else:        \n",
    "    print(\"BMI\",BMI,\"is Obese Class III\")"
   ]
  },
  {
   "cell_type": "code",
   "execution_count": null,
   "metadata": {},
   "outputs": [],
   "source": []
  },
  {
   "cell_type": "code",
   "execution_count": null,
   "metadata": {},
   "outputs": [],
   "source": []
  }
 ],
 "metadata": {
  "kernelspec": {
   "display_name": "Python 3",
   "language": "python",
   "name": "python3"
  },
  "language_info": {
   "codemirror_mode": {
    "name": "ipython",
    "version": 3
   },
   "file_extension": ".py",
   "mimetype": "text/x-python",
   "name": "python",
   "nbconvert_exporter": "python",
   "pygments_lexer": "ipython3",
   "version": "3.7.3"
  }
 },
 "nbformat": 4,
 "nbformat_minor": 2
}
